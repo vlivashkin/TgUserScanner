{
 "cells": [
  {
   "cell_type": "code",
   "execution_count": null,
   "id": "initial_id",
   "metadata": {
    "collapsed": true
   },
   "outputs": [],
   "source": [
    "from tg_get_users import TgGetUsers, users_to_df, unite_df"
   ]
  },
  {
   "cell_type": "code",
   "execution_count": null,
   "outputs": [],
   "source": [
    "username = \"<your username>\"\n",
    "api_id = \"<your api id>\"\n",
    "api_hash = \"<your api hash>\""
   ],
   "metadata": {
    "collapsed": false
   },
   "id": "a08b8afc6470ad47"
  },
  {
   "cell_type": "code",
   "execution_count": null,
   "outputs": [],
   "source": [
    "client = TgGetUsers(username, api_id, api_hash)\n",
    "await client.start()"
   ],
   "metadata": {
    "collapsed": false
   },
   "id": "53d2b5c16068d93a"
  },
  {
   "cell_type": "code",
   "execution_count": null,
   "outputs": [],
   "source": [
    "channel_url = \"https://t.me/<your channel name>\"\n",
    "channel_users = await client.get_channel_participants(channel_url)\n",
    "channel_users = users_to_df(channel_users)[[\"first_name\", \"last_name\", \"username\", \"phone\", \"bot\"]]\n",
    "channel_users[\"<your channel name>\"] = True\n",
    "channel_users"
   ],
   "metadata": {
    "collapsed": false
   },
   "id": "ebae21f01664421b"
  },
  {
   "cell_type": "code",
   "execution_count": null,
   "outputs": [],
   "source": [
    "group_url = \"https://t.me/<group you participate>\"\n",
    "messages = await client.get_group_messages(group_url)\n",
    "group_users, _ = await client.get_users_by_messages(messages)\n",
    "group_users = users_to_df(group_users)[[\"first_name\", \"last_name\", \"username\", \"phone\", \"bot\"]]\n",
    "group_users[\"<group you participate>\"] = True\n",
    "group_users"
   ],
   "metadata": {
    "collapsed": false
   },
   "id": "754f1bc51983ffe"
  },
  {
   "cell_type": "code",
   "execution_count": null,
   "outputs": [],
   "source": [
    "united_users = unite_df(channel_users, group_users)\n",
    "united_users"
   ],
   "metadata": {
    "collapsed": false
   },
   "id": "9b30b79e74d182f4"
  },
  {
   "cell_type": "code",
   "execution_count": null,
   "outputs": [],
   "source": [
    "united_users.to_excel(\"result.xlsx\")"
   ],
   "metadata": {
    "collapsed": false
   },
   "id": "5179405ab849d90f"
  }
 ],
 "metadata": {
  "kernelspec": {
   "display_name": "Python 3",
   "language": "python",
   "name": "python3"
  },
  "language_info": {
   "codemirror_mode": {
    "name": "ipython",
    "version": 2
   },
   "file_extension": ".py",
   "mimetype": "text/x-python",
   "name": "python",
   "nbconvert_exporter": "python",
   "pygments_lexer": "ipython2",
   "version": "2.7.6"
  }
 },
 "nbformat": 4,
 "nbformat_minor": 5
}
