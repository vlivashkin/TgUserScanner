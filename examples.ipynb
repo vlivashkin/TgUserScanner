{
 "cells": [
  {
   "cell_type": "code",
   "execution_count": null,
   "id": "initial_id",
   "metadata": {},
   "outputs": [],
   "source": [
    "from tguserscanner import TGUserScanner, parse_dialogs, find_by_title, users_to_df, unite_dfs\n",
    "from tqdm.auto import tqdm"
   ]
  },
  {
   "cell_type": "markdown",
   "id": "8583fac3-4830-43bf-bdc6-a26150e8a408",
   "metadata": {},
   "source": [
    "# Get friends and mark close ones"
   ]
  },
  {
   "cell_type": "code",
   "execution_count": null,
   "id": "a08b8afc6470ad47",
   "metadata": {
    "collapsed": false
   },
   "outputs": [],
   "source": [
    "username = \"<your username>\"\n",
    "api_id = \"<your api id>\"\n",
    "api_hash = \"<your api hash>\""
   ]
  },
  {
   "cell_type": "code",
   "execution_count": null,
   "id": "53d2b5c16068d93a",
   "metadata": {
    "collapsed": false
   },
   "outputs": [],
   "source": [
    "client = TGUserScanner(username, api_id, api_hash)\n",
    "await client.start()"
   ]
  },
  {
   "cell_type": "markdown",
   "id": "30f2e466-3068-45df-9f99-d0ef1fadef80",
   "metadata": {},
   "source": [
    "## Get users of any channel with access to participants"
   ]
  },
  {
   "cell_type": "code",
   "execution_count": null,
   "id": "13ba39ae-0ef2-42b2-9da0-478c6165cd07",
   "metadata": {},
   "outputs": [],
   "source": [
    "channel_url = \"<channel url>\"\n",
    "channel_users = await client.get_participants(channel_url)"
   ]
  },
  {
   "cell_type": "markdown",
   "id": "675bd58d-3a61-43c2-89c9-f0454a9d5736",
   "metadata": {},
   "source": [
    "## Get users of a chat without access to participants (by messages in chat!)"
   ]
  },
  {
   "cell_type": "code",
   "execution_count": null,
   "id": "a1256bf1-3fe4-4ffa-b1f3-f3615542b9ff",
   "metadata": {},
   "outputs": [],
   "source": [
    "chat_url = \"<chat url>\"\n",
    "chat_messages = await client.get_chat_messages(chat_url)\n",
    "chat_users, _ = await client.get_users_of_messages(chat_messages)"
   ]
  },
  {
   "cell_type": "markdown",
   "source": [
    "## Get DM users, users of all your chats and channels from dialogs"
   ],
   "metadata": {
    "collapsed": false
   },
   "id": "dd6d78f9cb54d555"
  },
  {
   "cell_type": "code",
   "execution_count": null,
   "outputs": [],
   "source": [
    "my_dialogs = await client.get_my_dialogs()\n",
    "dialog_users, my_channels, my_chats, _ = parse_dialogs(my_dialogs)"
   ],
   "metadata": {},
   "id": "38acf2c0-2da7-4afb-8015-53a27224d15a"
  },
  {
   "cell_type": "markdown",
   "source": [
    "### Find a chat by name (e.g. it doesn't have a URL) and get all users from it"
   ],
   "metadata": {
    "collapsed": false
   },
   "id": "45f2d9b3e9f0071f"
  },
  {
   "cell_type": "code",
   "execution_count": null,
   "outputs": [],
   "source": [
    "chat = find_by_title(\"<Chat name>\", my_chats)\n",
    "chat_users = await client.get_participants(chat)"
   ],
   "metadata": {
    "collapsed": false
   },
   "id": "986e3def55d9c6ab"
  },
  {
   "cell_type": "markdown",
   "id": "38cb31f6-34f3-4902-9e5b-0207311b3337",
   "metadata": {},
   "source": [
    "### Get users of all your chats and channels"
   ]
  },
  {
   "cell_type": "code",
   "execution_count": null,
   "id": "e0ae33b4-fc86-4af6-bb9d-a3bffce07fe9",
   "metadata": {},
   "outputs": [],
   "source": [
    "# Chats with your close friends. Leave empty to skip\n",
    "close_friends_chats = [\"<chat title>\"]\n",
    "\n",
    "channels_users = {}\n",
    "for channel in tqdm(my_channels + my_chats):\n",
    "    try:\n",
    "        users = await client.get_participants(channel)\n",
    "    except Exception as e:\n",
    "        # print(f\"{channel.title}: {e}\")\n",
    "        continue\n",
    "\n",
    "    for user in users:\n",
    "        if user.id in channels_users:\n",
    "            channels_users[user.id].common_channels.append(channel.title)\n",
    "        else:\n",
    "            user.common_channels = [channel.title]\n",
    "            channels_users[user.id] = user\n",
    "\n",
    "        if channel.title in close_friends_chats:\n",
    "            channels_users[user.id].has_close_friends_chat = True\n",
    "\n",
    "channels_users = list(channels_users.values())"
   ]
  },
  {
   "cell_type": "markdown",
   "id": "43025ab5-18a8-4bdf-89d5-1478a3b17b49",
   "metadata": {},
   "source": [
    "## Merge all user lists to Pandas DataFrame"
   ]
  },
  {
   "cell_type": "code",
   "execution_count": null,
   "id": "754f1bc51983ffe",
   "metadata": {
    "collapsed": false
   },
   "outputs": [],
   "source": [
    "columns = [\"first_name\", \"last_name\", \"username\", \"phone\", \"bot\"]\n",
    "closeness_columns = [\"common_channels\", \"has_close_friends_chat\"]\n",
    "columns_with_closeness = columns + closeness_columns\n",
    "\n",
    "united_users = unite_dfs(\n",
    "    {\n",
    "        \"all_channels_users\": users_to_df(channels_users, custom_fields=closeness_columns)[columns_with_closeness],\n",
    "        \"my_dialogs\": users_to_df(dialog_users)[columns],\n",
    "        \"channel_users\": users_to_df(channel_users)[columns],\n",
    "        \"chat_users\": users_to_df(chat_users)[columns],\n",
    "    }\n",
    ")\n",
    "united_users"
   ]
  },
  {
   "cell_type": "code",
   "execution_count": null,
   "id": "2112861f-5f9d-43a4-b6b1-962c3606deb9",
   "metadata": {},
   "outputs": [],
   "source": [
    "# Filter out non-related users\n",
    "united_users_filtered = united_users[\n",
    "    (united_users[\"bot\"] == False)\n",
    "    & (\n",
    "        (united_users[\"my_dialogs\"] == True)\n",
    "        | (united_users[\"channel_users\"] == True)\n",
    "        | (united_users[\"chat_users\"] == True)\n",
    "    )\n",
    "]\n",
    "len(united_users_filtered)"
   ]
  },
  {
   "cell_type": "code",
   "execution_count": null,
   "id": "5179405ab849d90f",
   "metadata": {
    "collapsed": false
   },
   "outputs": [],
   "source": [
    "# Export to Excel\n",
    "united_users_filtered.to_excel(\"result.xlsx\")"
   ]
  }
 ],
 "metadata": {
  "kernelspec": {
   "display_name": "Python 3 (ipykernel)",
   "language": "python",
   "name": "python3"
  },
  "language_info": {
   "codemirror_mode": {
    "name": "ipython",
    "version": 3
   },
   "file_extension": ".py",
   "mimetype": "text/x-python",
   "name": "python",
   "nbconvert_exporter": "python",
   "pygments_lexer": "ipython3",
   "version": "3.11.6"
  }
 },
 "nbformat": 4,
 "nbformat_minor": 5
}
